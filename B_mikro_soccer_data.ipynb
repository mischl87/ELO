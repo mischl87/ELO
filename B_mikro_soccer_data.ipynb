{
 "cells": [
  {
   "cell_type": "code",
   "execution_count": 1,
   "metadata": {},
   "outputs": [],
   "source": [
    "###IMPORTS###\n",
    "import numpy as np\n",
    "import random\n",
    "import matplotlib.pyplot as plt\n",
    "import pandas as pd\n",
    "\n",
    "\n",
    "\n",
    "###PARAMETER AND KONSTANTS###\n",
    "n_players = 200\n",
    "\n",
    "tt=2 # figure 2,4 created for t=6\n",
    "k=1 #tested rechecked with 1,2,4\n",
    "n_tsteps = k*10**tt \n",
    "dt = 0.1\n",
    "times = np.arange(0, n_tsteps*dt,dt)\n",
    "realisations = 50 #tested with 50,100\n",
    "\n",
    "av_rankings = np.zeros(n_players) # average ranking\n",
    "N_c = int (0.5 * dt * n_players) # number of collisions in DCMS\n",
    "interact = N_c\n",
    "\n",
    "K = 1 # scaling parameter to adjust rankings\n",
    "prefac = 1# \\nu\n",
    "store_sol = 2000\n",
    "\n",
    "energy = np.zeros(n_tsteps)\n",
    "\n",
    "###INITIAL DATA RANDOM und VORGEGEBEN###\n",
    "\n",
    "mumin=4\n",
    "mumax=10\n",
    "sig=2#50\n",
    "\n",
    "\n",
    "# import the created initial data\n",
    "data = pd.read_csv('goalimpact_teamsB.csv', sep=',', index_col=False, header=None).values\n",
    "\n",
    "rankings = np.zeros(n_players) # rankings of players\n",
    "r_init = np.random.uniform(mumin,mumax,n_players) # initial rankings\n",
    "overall = np.zeros((realisations, n_players)) # final rankings of all realisations\n",
    "\n",
    "strengthi = data.copy() \n",
    "\n",
    "#for figure 2\n",
    "theta = 11/23*strengthi.sum(axis=1)\n",
    "\n",
    "#for figure 4\n",
    "theta= np.random.uniform(mumin,mumax,n_players)\n",
    "sig=1;"
   ]
  },
  {
   "cell_type": "code",
   "execution_count": 2,
   "metadata": {},
   "outputs": [],
   "source": [
    "###DeFINITION FUNCTIONS###\n",
    "def coll_step(ratings, theta, coll_pairs, K, prefac):\n",
    "\n",
    "    nel = coll_pairs.size\n",
    "    interactions = 0.5 * nel\n",
    "    Sij = np.array([-1.0,1.0]) # score of the game\n",
    "\n",
    "    for k in np.arange(0,interactions,dtype=int):\n",
    "\n",
    "        k1 = coll_pairs[k]\n",
    "        k2 = coll_pairs[nel-1-k]\n",
    "        diff_ranking = rankings[k1] - rankings[k2]\n",
    "\n",
    "        #for e.g. figure 4\n",
    "        diff_strength = (np.random.normal(theta[k1], sig**2, 1)-np.random.normal(theta[k2], sig**2, 1))[0]\n",
    "\n",
    "        #for figure 2 and the goalimpact data  \n",
    "        #diff_strength = np.sum(np.random.choice(strengthi[k1], 11, replace=False, p=None))-np.sum(np.random.choice(strengthi[k2], 11, replace=False, p=None))\n",
    "\n",
    "        b = np.tanh(-prefac * diff_strength)\n",
    "        b1 = np.tanh(prefac * diff_ranking)\n",
    "\n",
    "        prob = np.array([0.5 * (b+1.0), 0.5 * (-b + 1.0)])\n",
    "        outcome = np.random.choice(Sij, p = prob) # outcome of the game, depending on the difference in strength\n",
    "\n",
    "        # Change in rankings\n",
    "        rankings[k1] = rankings[k1] + K * (outcome - b1)\n",
    "        rankings[k2] = rankings[k2] + K * (-outcome + b1)\n",
    "\n",
    "        \n",
    "def birds(n_players, n_tsteps, rankings, overall, energy, N_c, realisations, store_sol, K, prefac):\n",
    "\n",
    "    collision_pairs = np.zeros(2 * N_c)\n",
    "\n",
    "    for r in np.arange(0,realisations,dtype=int):\n",
    "\n",
    "        rankings[:] = r_init[:]\n",
    "        av_rankings = np.zeros(n_players)\n",
    "\n",
    "        for t in np.arange(n_tsteps, dtype=int):\n",
    "\n",
    "            collision_pairs = np.random.choice(n_players, 2*N_c, replace=False)\n",
    "            coll_step(rankings, theta,  collision_pairs, K, prefac)\n",
    "            energy[t] = np.sum((rankings-theta)**2)/n_players\n",
    "            if(t > n_tsteps - store_sol):\n",
    "                av_rankings[:] = av_rankings[:] + rankings[:]\n",
    "\n",
    "        overall[r,:] = av_rankings[:]/store_sol\n",
    "\n",
    "        \n"
   ]
  },
  {
   "cell_type": "code",
   "execution_count": 3,
   "metadata": {},
   "outputs": [
    {
     "data": {
      "text/plain": [
       "Text(0, 0.5, 'Ranking')"
      ]
     },
     "execution_count": 3,
     "metadata": {},
     "output_type": "execute_result"
    },
    {
     "data": {
      "image/png": "[encoded data removed]",
      "text/plain": [
       "<Figure size 432x288 with 1 Axes>"
      ]
     },
     "metadata": {
      "needs_background": "light"
     },
     "output_type": "display_data"
    }
   ],
   "source": [
    "###RUN ITSELF###\n",
    "#n_tsteps = 10 # does everything work out?\n",
    "birds(n_players, n_tsteps, rankings, overall, energy, N_c, realisations, store_sol, K, prefac)\n",
    "r_av_real = np.sum(overall,0)/realisations\n",
    "\n",
    "\n",
    "\n",
    "###EXPORT RESULTS###\n",
    "filename = 'export_DATA'\n",
    "np.savez_compressed(filename, n_tsteps=n_tsteps, energy=energy, realisations=realisations, rankings=rankings, theta=theta, strengthi=strengthi, r_av_real=r_av_real, collissions=interact, mumin=mumin, mumax=mumax, sig=sig)\n",
    "\n",
    "###see the result###\n",
    "plt.figure(1)\n",
    "plt.scatter(theta, r_av_real,c = 'b', alpha=0.5)\n",
    "plt.xlabel('Theta')\n",
    "plt.ylabel('Ranking')\n"
   ]
  },
  {
   "cell_type": "code",
   "execution_count": null,
   "metadata": {},
   "outputs": [],
   "source": []
  },
  {
   "cell_type": "code",
   "execution_count": null,
   "metadata": {},
   "outputs": [],
   "source": []
  },
  {
   "cell_type": "code",
   "execution_count": null,
   "metadata": {},
   "outputs": [],
   "source": []
  }
 ],
 "metadata": {
  "kernelspec": {
   "display_name": "Python 3",
   "language": "python",
   "name": "python3"
  },
  "language_info": {
   "codemirror_mode": {
    "name": "ipython",
    "version": 3
   },
   "file_extension": ".py",
   "mimetype": "text/x-python",
   "name": "python",
   "nbconvert_exporter": "python",
   "pygments_lexer": "ipython3",
   "version": "3.7.6"
  }
 },
 "nbformat": 4,
 "nbformat_minor": 2
}
